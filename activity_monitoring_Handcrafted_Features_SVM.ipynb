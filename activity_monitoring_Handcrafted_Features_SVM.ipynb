{
 "cells": [
  {
   "cell_type": "code",
   "execution_count": 1,
   "metadata": {
    "id": "Rkf8-XmA72YS"
   },
   "outputs": [],
   "source": [
    "import numpy as np\n",
    "from sklearn.svm import SVC\n",
    "from sklearn.metrics import f1_score, accuracy_score, confusion_matrix\n",
    "import torch\n",
    "import torch.nn as nn"
   ]
  },
  {
   "cell_type": "code",
   "execution_count": 2,
   "metadata": {
    "id": "VDFnrSNj-0u6"
   },
   "outputs": [],
   "source": [
    "#path = \"/content/sample_data/activity_monitoring/\"\n",
    "path = 'D:\\\\University\\\\Machine learning\\\\project\\\\'"
   ]
  },
  {
   "cell_type": "code",
   "execution_count": 3,
   "metadata": {
    "id": "Aqp09hRM_Adh"
   },
   "outputs": [],
   "source": [
    "train_msAcc = np.load(path+\"training\\\\\"+\"trainMSAccelerometer.npy\")\n",
    "train_msGyro = np.load(path+\"training\\\\\"+\"trainMSGyroscope.npy\")\n",
    "train_labels = np.load(path+\"training\\\\\"+\"trainlabels.npy\")\n",
    "\n",
    "test_msAcc = np.load(path+\"testing\\\\\"+\"testMSAccelerometer.npy\")\n",
    "test_msGyro = np.load(path+\"testing\\\\\"+\"testMSGyroscope.npy\")\n",
    "test_labels = np.load(path+\"testing\\\\\"+\"testlabels.npy\")\n",
    "\n"
   ]
  },
  {
   "cell_type": "code",
   "execution_count": 4,
   "metadata": {
    "colab": {
     "base_uri": "https://localhost:8080/"
    },
    "id": "Hby7Yux2AwMP",
    "outputId": "65c776ac-6a26-47a2-d381-35ca1a668890"
   },
   "outputs": [
    {
     "name": "stdout",
     "output_type": "stream",
     "text": [
      "(2284, 268, 3)\n",
      "(2284, 268, 3)\n",
      "(2284,)\n",
      "(2288, 268, 3)\n",
      "(2288, 268, 3)\n",
      "(2288,)\n"
     ]
    }
   ],
   "source": [
    "print(train_msAcc.shape)\n",
    "print(train_msGyro.shape)\n",
    "print(train_labels.shape)\n",
    "\n",
    "print(test_msAcc.shape)\n",
    "print(test_msGyro.shape)\n",
    "print(test_labels.shape)\n"
   ]
  },
  {
   "cell_type": "code",
   "execution_count": 5,
   "metadata": {
    "colab": {
     "base_uri": "https://localhost:8080/"
    },
    "id": "B0Kwt5mzDxLx",
    "outputId": "b97b137a-6ed0-409a-95b9-c090fdeaee6f"
   },
   "outputs": [
    {
     "name": "stdout",
     "output_type": "stream",
     "text": [
      "Num Train Examples:  2284\n",
      "Num Test Examples:  2284\n"
     ]
    }
   ],
   "source": [
    "train_num_examples = np.shape(train_labels)[0]\n",
    "test_num_examples = np.shape(test_labels)[0]\n",
    "print(\"Num Train Examples: \", train_num_examples)\n",
    "print(\"Num Test Examples: \", train_num_examples)"
   ]
  },
  {
   "cell_type": "code",
   "execution_count": 6,
   "metadata": {
    "colab": {
     "base_uri": "https://localhost:8080/"
    },
    "id": "JnCrWpy3EmxB",
    "outputId": "4d5fd85f-5d98-4ab3-e7ee-2ac562a71f1a"
   },
   "outputs": [
    {
     "name": "stdout",
     "output_type": "stream",
     "text": [
      "(2284, 8, 3)\n",
      "(2288, 8, 3)\n"
     ]
    }
   ],
   "source": [
    "num_features = 4\n",
    "train_features = np.zeros((train_num_examples, 2*num_features, 3))\n",
    "test_features = np.zeros((test_num_examples, 2*num_features, 3))\n",
    "\n",
    "print(np.shape(train_features))\n",
    "print(np.shape(test_features))\n"
   ]
  },
  {
   "cell_type": "code",
   "execution_count": 7,
   "metadata": {
    "id": "kj1LZGxgISbx"
   },
   "outputs": [],
   "source": [
    "#feaure extraction (mean, max, min, std)\n",
    "# generation of features for training data set\n",
    "train_features[:,0,:] = np.mean(train_msAcc, axis=1)\n",
    "train_features[:,1,:] = np.max(train_msAcc, axis=1)\n",
    "train_features[:,2,:] = np.min(train_msAcc, axis=1)\n",
    "train_features[:,3,:] = np.std(train_msAcc, axis=1)\n",
    "\n",
    "train_features[:,4,:] = np.mean(train_msGyro, axis=1)\n",
    "train_features[:,5,:] = np.max(train_msGyro, axis=1)\n",
    "train_features[:,6,:] = np.min(train_msGyro, axis=1)\n",
    "train_features[:,7,:] = np.std(train_msGyro, axis=1)\n",
    "#print(train_features[:,3,:])\n",
    "\n",
    "\n",
    "# generation of features for testing data set\n",
    "test_features[:,0,:] = np.mean(test_msAcc, axis=1)\n",
    "test_features[:,1,:] = np.max(test_msAcc, axis=1)\n",
    "test_features[:,2,:] = np.min(test_msAcc, axis=1)\n",
    "test_features[:,3,:] = np.std(test_msAcc, axis=1)\n",
    "\n",
    "test_features[:,4,:] = np.mean(test_msGyro, axis=1)\n",
    "test_features[:,5,:] = np.max(test_msGyro, axis=1)\n",
    "test_features[:,6,:] = np.min(test_msGyro, axis=1)\n",
    "test_features[:,7,:] = np.std(test_msGyro, axis=1)\n"
   ]
  },
  {
   "cell_type": "code",
   "execution_count": 8,
   "metadata": {
    "colab": {
     "base_uri": "https://localhost:8080/"
    },
    "id": "eN50h7NQKsd5",
    "outputId": "52afbb6a-7484-45ab-ede3-692b141b43d7"
   },
   "outputs": [
    {
     "name": "stdout",
     "output_type": "stream",
     "text": [
      "(2284, 8, 3)\n",
      "(2284, 24)\n",
      "(2288, 8, 3)\n",
      "(2288, 24)\n"
     ]
    }
   ],
   "source": [
    "print(np.shape(train_features))\n",
    "train_features_reshaped = np.reshape(train_features, (np.shape(train_features)[0], np.shape(train_features)[1]*np.shape(train_features)[2] ))\n",
    "print(np.shape(train_features_reshaped))\n",
    "\n",
    "\n",
    "print(np.shape(test_features))\n",
    "test_features_reshaped = np.reshape(test_features, (np.shape(test_features)[0], np.shape(test_features)[1]*np.shape(test_features)[2] ))\n",
    "print(np.shape(test_features_reshaped))\n",
    "\n"
   ]
  },
  {
   "cell_type": "code",
   "execution_count": 9,
   "metadata": {
    "colab": {
     "base_uri": "https://localhost:8080/"
    },
    "id": "HAkVG-FbL7Co",
    "outputId": "472e584c-aaad-485d-b6c3-1319eb7cd0ca"
   },
   "outputs": [
    {
     "name": "stdout",
     "output_type": "stream",
     "text": [
      "   C = 1.0 \n",
      "   Average F1-score = 0.3485\n",
      "   Test accuracy = 35.45 %\n",
      "   Weighted F1-score = 0.3496\n",
      "   All F1-scores:\n",
      "[0.775      0.60606061 0.4        0.5        0.15841584 0.22857143\n",
      " 0.44897959 0.24719101 0.24175824 0.10810811 0.32432432 0.27118644\n",
      " 0.8        0.27826087 0.63529412 0.33333333 0.4742268  0.38235294\n",
      " 0.28571429 0.35443038 0.1509434  0.23333333 0.37974684 0.16129032\n",
      " 0.18390805 0.34146341 0.36363636 0.14285714 0.14285714 0.16494845\n",
      " 0.25806452 0.2970297  0.275      0.31325301 0.23404255 0.23728814\n",
      " 0.64197531 0.25806452 0.54347826 0.34693878 0.48192771 0.45454545\n",
      " 0.22580645 0.35087719 0.7628866  0.09876543 0.30434783 0.25641026\n",
      " 0.35514019 0.51282051 0.52272727 0.55813953 0.09836066 0.54545455\n",
      " 0.11650485]\n",
      "   Confusion Matrix:\n",
      "[[31  0  0 ...  0  0  0]\n",
      " [ 1 30  4 ...  0  0  0]\n",
      " [ 0  2 15 ...  0  2  0]\n",
      " ...\n",
      " [ 0  1  1 ...  3  0  0]\n",
      " [ 0  0  0 ...  0 21  0]\n",
      " [ 0  0  0 ...  0  0  6]]\n",
      "-------------------------------------------------------\n"
     ]
    }
   ],
   "source": [
    "#classification using SVM\n",
    "classfier = SVC(C=1.0, kernel='linear')  # non-linear kernel is proposed by the fernando's paper\n",
    "classfier.fit(train_features_reshaped,train_labels)\n",
    "estimatedLabels = classfier.predict(test_features_reshaped)\n",
    "\n",
    "accuracy = accuracy_score(test_labels,estimatedLabels)\n",
    "weightedF1 = f1_score(test_labels,estimatedLabels,average='weighted')\n",
    "averageF1 = f1_score(test_labels,estimatedLabels,average='macro')\n",
    "allF1Scores = f1_score(test_labels,estimatedLabels,average=None)\n",
    "conf_matrix = confusion_matrix(test_labels,estimatedLabels)\n",
    "\n",
    "# Print results\n",
    "print('   C = 1.0 ')\n",
    "print('   Average F1-score = %.4f' % (averageF1))\n",
    "print('   Test accuracy = %.2f %%' % (accuracy*100))\n",
    "print('   Weighted F1-score = %.4f' % (weightedF1))\n",
    "print('   All F1-scores:')\n",
    "print(allF1Scores)\n",
    "print('   Confusion Matrix:')\n",
    "print(conf_matrix)\n",
    "\n",
    "print('-------------------------------------------------------')\n",
    "\n"
   ]
  },
  {
   "cell_type": "code",
   "execution_count": null,
   "metadata": {
    "id": "3HhZ4a74U4An"
   },
   "outputs": [],
   "source": [
    "#neural network \n",
    "# batchSize = 50\n",
    "# learningRate = 0.5 # NOTE: tested: 1, 0.5, 0.1, 0.01\n",
    "# epochs = 150\n",
    "# targetDataProportion = 1\n",
    "\n",
    "# msbandModel = {\n",
    "#     'name': 'CNN',\n",
    "#     'nb_conv_blocks' : 3,\n",
    "#     'nb_conv_kernels' : [10,10,10],\n",
    "#     'conv_kernels_size' : [(9,),(11,),(11,)],\n",
    "#     'pooling_size' : [(2,),(2,),(2,)],\n",
    "#     'activation' : 'relu',\n",
    "#     }\n",
    "# denseSize = [2000,2000,2000]\n",
    "# denseActivation = 'relu'\n",
    "\n",
    "\n",
    "\n",
    "# trainingMSAcc = torch.from_numpy(train_msAcc)\n",
    "# trainingMSGyro = torch.from_numpy(train_msGyro)\n",
    "# trainingLabels = torch.from_numpy(train_labels)\n",
    "\n",
    "# testingMSAcc = torch.from_numpy(test_msAcc)\n",
    "# testingMSGyro = torch.from_numpy(test_msGyro)\n",
    "# testingLabels = torch.from_numpy(test_labels)\n",
    "\n"
   ]
  },
  {
   "cell_type": "code",
   "execution_count": null,
   "metadata": {
    "colab": {
     "base_uri": "https://localhost:8080/"
    },
    "id": "EfBSpbLcFOWx",
    "outputId": "4e7aaee6-9c90-4899-fdb5-31d1636cc749"
   },
   "outputs": [
    {
     "name": "stdout",
     "output_type": "stream",
     "text": [
      "0.5609969\n",
      "0.36283487\n",
      "0.7257417\n",
      "[0.5609969  0.36283487 0.7257417 ]\n",
      "[ 0.9604474  -0.05970696  0.23163207]\n",
      "(87, 3)\n",
      "(261,)\n",
      "0.5609969\n",
      "0.36283487\n",
      "0.7257417\n",
      "0.9604474\n"
     ]
    }
   ],
   "source": [
    "# #feaure extraction (mean, max, min, std)\n",
    "# m = np.mean(train_msAcc, axis=1)\n",
    "# print(np.mean(train_msAcc[0,:,0]))\n",
    "# print(np.mean(train_msAcc[0,:,1]))\n",
    "# print(np.mean(train_msAcc[0,:,2]))\n",
    "# print(m[0])\n",
    "# print(m[1])\n",
    "# print(m.shape)\n",
    "# m = m.flatten()\n",
    "# print(m.shape)\n",
    "# print(m[0])\n",
    "# print(m[1])\n",
    "# print(m[2])\n",
    "# print(m[3])"
   ]
  }
 ],
 "metadata": {
  "colab": {
   "provenance": []
  },
  "kernelspec": {
   "display_name": "base",
   "language": "python",
   "name": "python3"
  },
  "language_info": {
   "codemirror_mode": {
    "name": "ipython",
    "version": 3
   },
   "file_extension": ".py",
   "mimetype": "text/x-python",
   "name": "python",
   "nbconvert_exporter": "python",
   "pygments_lexer": "ipython3",
   "version": "3.9.7"
  },
  "vscode": {
   "interpreter": {
    "hash": "ad2bdc8ecc057115af97d19610ffacc2b4e99fae6737bb82f5d7fb13d2f2c186"
   }
  }
 },
 "nbformat": 4,
 "nbformat_minor": 1
}
